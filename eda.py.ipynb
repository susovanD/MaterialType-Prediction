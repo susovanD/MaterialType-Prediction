{
 "cells": [
  {
   "cell_type": "code",
   "execution_count": 5,
   "metadata": {},
   "outputs": [],
   "source": [
    "import pandas as pd\n",
    "import matplotlib.pyplot as plt\n",
    "%matplotlib inline"
   ]
  },
  {
   "cell_type": "code",
   "execution_count": 12,
   "metadata": {},
   "outputs": [
    {
     "data": {
      "text/html": [
       "<div>\n",
       "<style scoped>\n",
       "    .dataframe tbody tr th:only-of-type {\n",
       "        vertical-align: middle;\n",
       "    }\n",
       "\n",
       "    .dataframe tbody tr th {\n",
       "        vertical-align: top;\n",
       "    }\n",
       "\n",
       "    .dataframe thead th {\n",
       "        text-align: right;\n",
       "    }\n",
       "</style>\n",
       "<table border=\"1\" class=\"dataframe\">\n",
       "  <thead>\n",
       "    <tr style=\"text-align: right;\">\n",
       "      <th></th>\n",
       "      <th>ID</th>\n",
       "      <th>UsageClass</th>\n",
       "      <th>CheckoutType</th>\n",
       "      <th>CheckoutYear</th>\n",
       "      <th>CheckoutMonth</th>\n",
       "      <th>Checkouts</th>\n",
       "      <th>Title</th>\n",
       "      <th>Creator</th>\n",
       "      <th>Subjects</th>\n",
       "      <th>Publisher</th>\n",
       "      <th>PublicationYear</th>\n",
       "      <th>MaterialType</th>\n",
       "    </tr>\n",
       "  </thead>\n",
       "  <tbody>\n",
       "    <tr>\n",
       "      <th>0</th>\n",
       "      <td>1</td>\n",
       "      <td>Physical</td>\n",
       "      <td>Horizon</td>\n",
       "      <td>2005</td>\n",
       "      <td>4</td>\n",
       "      <td>1</td>\n",
       "      <td>Tidal wave</td>\n",
       "      <td>NaN</td>\n",
       "      <td>Tsunamis, Tsunamis Juvenile literature</td>\n",
       "      <td>NaN</td>\n",
       "      <td>NaN</td>\n",
       "      <td>BOOK</td>\n",
       "    </tr>\n",
       "    <tr>\n",
       "      <th>1</th>\n",
       "      <td>2</td>\n",
       "      <td>Physical</td>\n",
       "      <td>Horizon</td>\n",
       "      <td>2005</td>\n",
       "      <td>4</td>\n",
       "      <td>1</td>\n",
       "      <td>London holiday / Richard Peck.</td>\n",
       "      <td>Peck, Richard, 1934-</td>\n",
       "      <td>NaN</td>\n",
       "      <td>Viking,</td>\n",
       "      <td>1998.</td>\n",
       "      <td>BOOK</td>\n",
       "    </tr>\n",
       "    <tr>\n",
       "      <th>2</th>\n",
       "      <td>3</td>\n",
       "      <td>Physical</td>\n",
       "      <td>Horizon</td>\n",
       "      <td>2005</td>\n",
       "      <td>4</td>\n",
       "      <td>3</td>\n",
       "      <td>Cinco de Mayo : celebrating Hispanic pride / C...</td>\n",
       "      <td>Gnojewski, Carol</td>\n",
       "      <td>Cinco de Mayo Mexican holiday History Juvenile...</td>\n",
       "      <td>Enslow Publishers,</td>\n",
       "      <td>c2002.</td>\n",
       "      <td>BOOK</td>\n",
       "    </tr>\n",
       "    <tr>\n",
       "      <th>3</th>\n",
       "      <td>4</td>\n",
       "      <td>Physical</td>\n",
       "      <td>Horizon</td>\n",
       "      <td>2005</td>\n",
       "      <td>4</td>\n",
       "      <td>1</td>\n",
       "      <td>Annapolis</td>\n",
       "      <td>NaN</td>\n",
       "      <td>War stories, Historical fiction, Domestic fict...</td>\n",
       "      <td>NaN</td>\n",
       "      <td>NaN</td>\n",
       "      <td>BOOK</td>\n",
       "    </tr>\n",
       "    <tr>\n",
       "      <th>4</th>\n",
       "      <td>5</td>\n",
       "      <td>Physical</td>\n",
       "      <td>Horizon</td>\n",
       "      <td>2005</td>\n",
       "      <td>4</td>\n",
       "      <td>1</td>\n",
       "      <td>As a man thinketh</td>\n",
       "      <td>NaN</td>\n",
       "      <td>Thought and thinking</td>\n",
       "      <td>NaN</td>\n",
       "      <td>NaN</td>\n",
       "      <td>BOOK</td>\n",
       "    </tr>\n",
       "  </tbody>\n",
       "</table>\n",
       "</div>"
      ],
      "text/plain": [
       "   ID UsageClass CheckoutType  CheckoutYear  CheckoutMonth  Checkouts  \\\n",
       "0   1   Physical      Horizon          2005              4          1   \n",
       "1   2   Physical      Horizon          2005              4          1   \n",
       "2   3   Physical      Horizon          2005              4          3   \n",
       "3   4   Physical      Horizon          2005              4          1   \n",
       "4   5   Physical      Horizon          2005              4          1   \n",
       "\n",
       "                                               Title               Creator  \\\n",
       "0                                         Tidal wave                   NaN   \n",
       "1                     London holiday / Richard Peck.  Peck, Richard, 1934-   \n",
       "2  Cinco de Mayo : celebrating Hispanic pride / C...      Gnojewski, Carol   \n",
       "3                                          Annapolis                   NaN   \n",
       "4                                  As a man thinketh                   NaN   \n",
       "\n",
       "                                            Subjects           Publisher  \\\n",
       "0             Tsunamis, Tsunamis Juvenile literature                 NaN   \n",
       "1                                                NaN             Viking,   \n",
       "2  Cinco de Mayo Mexican holiday History Juvenile...  Enslow Publishers,   \n",
       "3  War stories, Historical fiction, Domestic fict...                 NaN   \n",
       "4                               Thought and thinking                 NaN   \n",
       "\n",
       "  PublicationYear MaterialType  \n",
       "0             NaN         BOOK  \n",
       "1           1998.         BOOK  \n",
       "2          c2002.         BOOK  \n",
       "3             NaN         BOOK  \n",
       "4             NaN         BOOK  "
      ]
     },
     "execution_count": 12,
     "metadata": {},
     "output_type": "execute_result"
    }
   ],
   "source": [
    "#import excel file\n",
    "df=pd.read_csv(r\"Predictive_Data/train_file.csv\")\n",
    "df.head()"
   ]
  },
  {
   "cell_type": "markdown",
   "metadata": {},
   "source": [
    "## Let us analyze the data."
   ]
  },
  {
   "cell_type": "code",
   "execution_count": 9,
   "metadata": {},
   "outputs": [
    {
     "data": {
      "text/html": [
       "<div>\n",
       "<style scoped>\n",
       "    .dataframe tbody tr th:only-of-type {\n",
       "        vertical-align: middle;\n",
       "    }\n",
       "\n",
       "    .dataframe tbody tr th {\n",
       "        vertical-align: top;\n",
       "    }\n",
       "\n",
       "    .dataframe thead th {\n",
       "        text-align: right;\n",
       "    }\n",
       "</style>\n",
       "<table border=\"1\" class=\"dataframe\">\n",
       "  <thead>\n",
       "    <tr style=\"text-align: right;\">\n",
       "      <th></th>\n",
       "      <th>ID</th>\n",
       "      <th>CheckoutYear</th>\n",
       "      <th>CheckoutMonth</th>\n",
       "      <th>Checkouts</th>\n",
       "    </tr>\n",
       "  </thead>\n",
       "  <tbody>\n",
       "    <tr>\n",
       "      <th>count</th>\n",
       "      <td>31653.000000</td>\n",
       "      <td>31653.0</td>\n",
       "      <td>31653.0</td>\n",
       "      <td>31653.000000</td>\n",
       "    </tr>\n",
       "    <tr>\n",
       "      <th>mean</th>\n",
       "      <td>15827.000000</td>\n",
       "      <td>2005.0</td>\n",
       "      <td>4.0</td>\n",
       "      <td>2.117430</td>\n",
       "    </tr>\n",
       "    <tr>\n",
       "      <th>std</th>\n",
       "      <td>9137.578372</td>\n",
       "      <td>0.0</td>\n",
       "      <td>0.0</td>\n",
       "      <td>2.629428</td>\n",
       "    </tr>\n",
       "    <tr>\n",
       "      <th>min</th>\n",
       "      <td>1.000000</td>\n",
       "      <td>2005.0</td>\n",
       "      <td>4.0</td>\n",
       "      <td>1.000000</td>\n",
       "    </tr>\n",
       "    <tr>\n",
       "      <th>25%</th>\n",
       "      <td>7914.000000</td>\n",
       "      <td>2005.0</td>\n",
       "      <td>4.0</td>\n",
       "      <td>1.000000</td>\n",
       "    </tr>\n",
       "    <tr>\n",
       "      <th>50%</th>\n",
       "      <td>15827.000000</td>\n",
       "      <td>2005.0</td>\n",
       "      <td>4.0</td>\n",
       "      <td>1.000000</td>\n",
       "    </tr>\n",
       "    <tr>\n",
       "      <th>75%</th>\n",
       "      <td>23740.000000</td>\n",
       "      <td>2005.0</td>\n",
       "      <td>4.0</td>\n",
       "      <td>2.000000</td>\n",
       "    </tr>\n",
       "    <tr>\n",
       "      <th>max</th>\n",
       "      <td>31653.000000</td>\n",
       "      <td>2005.0</td>\n",
       "      <td>4.0</td>\n",
       "      <td>85.000000</td>\n",
       "    </tr>\n",
       "  </tbody>\n",
       "</table>\n",
       "</div>"
      ],
      "text/plain": [
       "                 ID  CheckoutYear  CheckoutMonth     Checkouts\n",
       "count  31653.000000       31653.0        31653.0  31653.000000\n",
       "mean   15827.000000        2005.0            4.0      2.117430\n",
       "std     9137.578372           0.0            0.0      2.629428\n",
       "min        1.000000        2005.0            4.0      1.000000\n",
       "25%     7914.000000        2005.0            4.0      1.000000\n",
       "50%    15827.000000        2005.0            4.0      1.000000\n",
       "75%    23740.000000        2005.0            4.0      2.000000\n",
       "max    31653.000000        2005.0            4.0     85.000000"
      ]
     },
     "execution_count": 9,
     "metadata": {},
     "output_type": "execute_result"
    }
   ],
   "source": [
    "df.describe()"
   ]
  },
  {
   "cell_type": "code",
   "execution_count": 10,
   "metadata": {},
   "outputs": [
    {
     "name": "stdout",
     "output_type": "stream",
     "text": [
      "<class 'pandas.core.frame.DataFrame'>\n",
      "RangeIndex: 31653 entries, 0 to 31652\n",
      "Data columns (total 12 columns):\n",
      " #   Column           Non-Null Count  Dtype \n",
      "---  ------           --------------  ----- \n",
      " 0   ID               31653 non-null  int64 \n",
      " 1   UsageClass       31653 non-null  object\n",
      " 2   CheckoutType     31653 non-null  object\n",
      " 3   CheckoutYear     31653 non-null  int64 \n",
      " 4   CheckoutMonth    31653 non-null  int64 \n",
      " 5   Checkouts        31653 non-null  int64 \n",
      " 6   Title            31653 non-null  object\n",
      " 7   Creator          8516 non-null   object\n",
      " 8   Subjects         29890 non-null  object\n",
      " 9   Publisher        9737 non-null   object\n",
      " 10  PublicationYear  9722 non-null   object\n",
      " 11  MaterialType     31653 non-null  object\n",
      "dtypes: int64(4), object(8)\n",
      "memory usage: 2.9+ MB\n"
     ]
    }
   ],
   "source": [
    "df.info()"
   ]
  },
  {
   "cell_type": "code",
   "execution_count": 16,
   "metadata": {},
   "outputs": [
    {
     "name": "stdout",
     "output_type": "stream",
     "text": [
      "Data Shape :  (31653, 12)\n",
      "Data columns :  Index(['ID', 'UsageClass', 'CheckoutType', 'CheckoutYear', 'CheckoutMonth',\n",
      "       'Checkouts', 'Title', 'Creator', 'Subjects', 'Publisher',\n",
      "       'PublicationYear', 'MaterialType'],\n",
      "      dtype='object')\n"
     ]
    }
   ],
   "source": [
    "print(\"Data Shape : \",df.shape)\n",
    "print(\"Data columns : \",df.columns)"
   ]
  },
  {
   "cell_type": "markdown",
   "metadata": {},
   "source": [
    "## Let us consider each column one by one and analyze"
   ]
  },
  {
   "cell_type": "code",
   "execution_count": 18,
   "metadata": {},
   "outputs": [
    {
     "data": {
      "text/plain": [
       "31653"
      ]
     },
     "execution_count": 18,
     "metadata": {},
     "output_type": "execute_result"
    }
   ],
   "source": [
    "#ID column. let us see if we have unique data or not.\n",
    "df['ID'].nunique()\n"
   ]
  },
  {
   "cell_type": "markdown",
   "metadata": {},
   "source": [
    "Since the unique count and the overall count of rows is same. We can ignore this column. Also it says that there are no duplicate rows.\n",
    "\n",
    "#### Column : UsageClass"
   ]
  },
  {
   "cell_type": "code",
   "execution_count": 22,
   "metadata": {},
   "outputs": [
    {
     "name": "stdout",
     "output_type": "stream",
     "text": [
      "Count of unique value : 1\n"
     ]
    },
    {
     "data": {
      "text/plain": [
       "Physical    31653\n",
       "Name: UsageClass, dtype: int64"
      ]
     },
     "execution_count": 22,
     "metadata": {},
     "output_type": "execute_result"
    }
   ],
   "source": [
    "print(\"Count of unique value :\",df['UsageClass'].nunique())\n",
    "df['UsageClass'].value_counts()"
   ]
  },
  {
   "cell_type": "markdown",
   "metadata": {},
   "source": [
    "Since all are of usage class physical this attribute will not help us in the analysis and can be removed while model creation.\n",
    "\n",
    "#### Column : CheckoutType"
   ]
  },
  {
   "cell_type": "code",
   "execution_count": 25,
   "metadata": {},
   "outputs": [
    {
     "name": "stdout",
     "output_type": "stream",
     "text": [
      "Count of unique value : 1\n"
     ]
    },
    {
     "data": {
      "text/plain": [
       "Horizon    31653\n",
       "Name: CheckoutType, dtype: int64"
      ]
     },
     "execution_count": 25,
     "metadata": {},
     "output_type": "execute_result"
    }
   ],
   "source": [
    "print(\"Count of unique value :\",df['CheckoutType'].nunique())\n",
    "df['CheckoutType'].value_counts()"
   ]
  },
  {
   "cell_type": "markdown",
   "metadata": {},
   "source": [
    "Since all are of usage class physical this attribute will not help us in the analysis and can be removed while model creation.\n",
    "#### Column : CheckoutYear"
   ]
  },
  {
   "cell_type": "code",
   "execution_count": 26,
   "metadata": {},
   "outputs": [
    {
     "name": "stdout",
     "output_type": "stream",
     "text": [
      "Count of unique value : 1\n"
     ]
    },
    {
     "data": {
      "text/plain": [
       "2005    31653\n",
       "Name: CheckoutYear, dtype: int64"
      ]
     },
     "execution_count": 26,
     "metadata": {},
     "output_type": "execute_result"
    }
   ],
   "source": [
    "print(\"Count of unique value :\",df['CheckoutYear'].nunique())\n",
    "df['CheckoutYear'].value_counts()"
   ]
  },
  {
   "cell_type": "markdown",
   "metadata": {},
   "source": [
    "The whole data of checckout year is of 2005\n",
    "#### Column : CheckoutMonth"
   ]
  },
  {
   "cell_type": "code",
   "execution_count": 27,
   "metadata": {},
   "outputs": [
    {
     "name": "stdout",
     "output_type": "stream",
     "text": [
      "Count of unique value : 1\n"
     ]
    },
    {
     "data": {
      "text/plain": [
       "4    31653\n",
       "Name: CheckoutMonth, dtype: int64"
      ]
     },
     "execution_count": 27,
     "metadata": {},
     "output_type": "execute_result"
    }
   ],
   "source": [
    "print(\"Count of unique value :\",df['CheckoutMonth'].nunique())\n",
    "df['CheckoutMonth'].value_counts()"
   ]
  },
  {
   "cell_type": "markdown",
   "metadata": {},
   "source": [
    "Checkout month is 4 for the whole data.\n",
    "#### Column : Checkouts\n",
    "~60% of the data seems to have checkout count as 1."
   ]
  },
  {
   "cell_type": "code",
   "execution_count": 62,
   "metadata": {},
   "outputs": [
    {
     "name": "stdout",
     "output_type": "stream",
     "text": [
      "Count of unique value : 50\n"
     ]
    },
    {
     "data": {
      "text/plain": [
       "1     0.596026\n",
       "2     0.183553\n",
       "3     0.083752\n",
       "4     0.049221\n",
       "5     0.027328\n",
       "6     0.018450\n",
       "7     0.011057\n",
       "8     0.008025\n",
       "9     0.005150\n",
       "10    0.003854\n",
       "11    0.003033\n",
       "12    0.002148\n",
       "13    0.001390\n",
       "14    0.001043\n",
       "15    0.000916\n",
       "16    0.000885\n",
       "17    0.000663\n",
       "18    0.000569\n",
       "21    0.000316\n",
       "23    0.000221\n",
       "30    0.000221\n",
       "19    0.000190\n",
       "20    0.000190\n",
       "22    0.000190\n",
       "27    0.000158\n",
       "24    0.000158\n",
       "25    0.000126\n",
       "34    0.000126\n",
       "36    0.000126\n",
       "45    0.000095\n",
       "26    0.000095\n",
       "52    0.000063\n",
       "39    0.000063\n",
       "28    0.000063\n",
       "40    0.000063\n",
       "37    0.000032\n",
       "78    0.000032\n",
       "77    0.000032\n",
       "33    0.000032\n",
       "61    0.000032\n",
       "29    0.000032\n",
       "44    0.000032\n",
       "42    0.000032\n",
       "85    0.000032\n",
       "35    0.000032\n",
       "41    0.000032\n",
       "56    0.000032\n",
       "38    0.000032\n",
       "84    0.000032\n",
       "31    0.000032\n",
       "Name: Checkouts, dtype: float64"
      ]
     },
     "execution_count": 62,
     "metadata": {},
     "output_type": "execute_result"
    }
   ],
   "source": [
    "print(\"Count of unique value :\",df['Checkouts'].nunique())\n",
    "df['Checkouts'].value_counts()/df.shape[0]"
   ]
  },
  {
   "cell_type": "markdown",
   "metadata": {},
   "source": [
    "#### Column : PublicationYear\n",
    "Here we see that publication year is a string field withn different junk values also. Hence we will not be using this column.\n"
   ]
  },
  {
   "cell_type": "code",
   "execution_count": 31,
   "metadata": {},
   "outputs": [
    {
     "name": "stdout",
     "output_type": "stream",
     "text": [
      "Count of unique value : 840\n"
     ]
    },
    {
     "data": {
      "text/plain": [
       "c2004.                  573\n",
       "2004.                   545\n",
       "2003.                   458\n",
       "2002.                   427\n",
       "c2003.                  396\n",
       "                       ... \n",
       "[1972, c1942]             1\n",
       "[199-?], p1972.           1\n",
       "[2004], c2000-c2001.      1\n",
       "1952.                     1\n",
       "c1947.                    1\n",
       "Name: PublicationYear, Length: 840, dtype: int64"
      ]
     },
     "execution_count": 31,
     "metadata": {},
     "output_type": "execute_result"
    }
   ],
   "source": [
    "print(\"Count of unique value :\",df['PublicationYear'].nunique())\n",
    "df['PublicationYear'].value_counts()"
   ]
  },
  {
   "cell_type": "markdown",
   "metadata": {},
   "source": [
    "#### Column : MaterialType"
   ]
  },
  {
   "cell_type": "code",
   "execution_count": 60,
   "metadata": {},
   "outputs": [
    {
     "name": "stdout",
     "output_type": "stream",
     "text": [
      "Count of unique value : 8\n",
      "BOOK         0.685780\n",
      "SOUNDDISC    0.131078\n",
      "VIDEOCASS    0.086911\n",
      "VIDEODISC    0.044861\n",
      "SOUNDCASS    0.032224\n",
      "MIXED        0.010963\n",
      "MUSIC        0.005213\n",
      "CR           0.002970\n",
      "Name: MaterialType, dtype: float64\n"
     ]
    },
    {
     "data": {
      "text/plain": [
       "<matplotlib.axes._subplots.AxesSubplot at 0x287ec23fb08>"
      ]
     },
     "execution_count": 60,
     "metadata": {},
     "output_type": "execute_result"
    },
    {
     "data": {
      "image/png": "[encoded data removed]",
      "text/plain": [
       "<Figure size 432x288 with 1 Axes>"
      ]
     },
     "metadata": {
      "needs_background": "light"
     },
     "output_type": "display_data"
    }
   ],
   "source": [
    "print(\"Count of unique value :\",df['MaterialType'].nunique())\n",
    "print(df['MaterialType'].value_counts()/df.shape[0])\n",
    "df['MaterialType'].value_counts().plot.bar()"
   ]
  },
  {
   "cell_type": "markdown",
   "metadata": {},
   "source": [
    "After seeing the distribution of target variablewe can say that 68% of the total material type are books. Mixed Music and CR counts are mminimal and they may be clubbed with other classes if possible."
   ]
  },
  {
   "cell_type": "code",
   "execution_count": 50,
   "metadata": {},
   "outputs": [
    {
     "data": {
      "text/plain": [
       "ID                 0.000000\n",
       "UsageClass         0.000000\n",
       "CheckoutType       0.000000\n",
       "CheckoutYear       0.000000\n",
       "CheckoutMonth      0.000000\n",
       "Checkouts          0.000000\n",
       "Title              0.000000\n",
       "Creator            0.730958\n",
       "Subjects           0.055698\n",
       "Publisher          0.692383\n",
       "PublicationYear    0.692857\n",
       "MaterialType       0.000000\n",
       "dtype: float64"
      ]
     },
     "execution_count": 50,
     "metadata": {},
     "output_type": "execute_result"
    }
   ],
   "source": [
    "#Now lets see if there are null values present in the data2\n",
    "df.isnull().sum()/df.shape[0]"
   ]
  },
  {
   "cell_type": "markdown",
   "metadata": {},
   "source": [
    "##### From the above table we see that creator, subjects, publisher and publicationyear has missing data. Since majority of the data in columns Creator and Publicationyear is null hence let us not consider those values in the model. \n",
    "##### Also we see that ~5% of the data doesnot have Subjects. Hence, we will concatenate both the columns and use it the concatenated column."
   ]
  },
  {
   "cell_type": "markdown",
   "metadata": {},
   "source": [
    "##### So, finally we can say the below points from our analysis:\n",
    "1. The full data is from UsageClass=physical, checkouttype=Horizon, and checkoutyear=2005, checkoutmonth=4\n",
    "2. No duplicate data is present in the data.\n",
    "3. Combination of Subject and title should be used to identify the materialtype.\n",
    "4. ~ 69% of the total data are having materialtype as BOOK, followed by SOUNDDISC(~ 13%) and VIDEOCASS(~ 9%).\n",
    "5. Since majority of the data has materialtype as BOOK, if we use this data as it is for model building, it will become imbalanced."
   ]
  }
 ],
 "metadata": {
  "kernelspec": {
   "display_name": "Python 3",
   "language": "python",
   "name": "python3"
  },
  "language_info": {
   "codemirror_mode": {
    "name": "ipython",
    "version": 3
   },
   "file_extension": ".py",
   "mimetype": "text/x-python",
   "name": "python",
   "nbconvert_exporter": "python",
   "pygments_lexer": "ipython3",
   "version": "3.7.4"
  }
 },
 "nbformat": 4,
 "nbformat_minor": 2
}
